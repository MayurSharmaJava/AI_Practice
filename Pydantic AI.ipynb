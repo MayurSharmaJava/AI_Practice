{
 "cells": [
  {
   "cell_type": "code",
   "execution_count": null,
   "id": "4f83aaf1",
   "metadata": {},
   "outputs": [],
   "source": [
    "!pip install pydantic_ai\n",
    "!pip install nest-asyncio"
   ]
  },
  {
   "cell_type": "code",
   "execution_count": 2,
   "id": "37f1ffa6",
   "metadata": {},
   "outputs": [],
   "source": [
    "import nest_asyncio\n",
    "nest_asyncio.apply()"
   ]
  },
  {
   "cell_type": "code",
   "execution_count": 1,
   "id": "5c3e0220",
   "metadata": {},
   "outputs": [
    {
     "name": "stdout",
     "output_type": "stream",
     "text": [
      "User:hi\n",
      "DeepSeek: Hello! How can I assist you today?\n",
      "User:are you tracking me ?\n",
      "DeepSeek: It seems like you're inquiring about your behavior or interactions with others. How can I assist you further?\n",
      "User:bye\n"
     ]
    }
   ],
   "source": [
    "from pydantic_ai.models.openai import OpenAIModel\n",
    "from pydantic_ai import Agent\n",
    "from openai import AsyncOpenAI\n",
    "\n",
    "MODEL_ID= 'deepseek-r1:1.5b'\n",
    "OLLAMA_SERVER_ENDPOINT = 'http://127.0.0.1:11434/v1'\n",
    "\n",
    "client = AsyncOpenAI(\n",
    "    base_url=OLLAMA_SERVER_ENDPOINT,\n",
    "    api_key='ollama_api_key'  # use a placeholder if authentication isn’t required\n",
    ")\n",
    "\n",
    "model_ollama = OpenAIModel(\n",
    "    model_name=MODEL_ID,\n",
    "    openai_client=client\n",
    ")\n",
    "\n",
    "agent = Agent(\n",
    "    model=model_ollama,\n",
    "    system_prompt=['You are a helpful assistant.']\n",
    ")\n",
    "\n",
    "import re\n",
    "def clean_response(response_text):\n",
    "    # Extract response while removing \"<think>...</think>\" part\n",
    "    return re.sub(r\"<think>.*?</think>\\s*\", \"\", result.data, flags=re.DOTALL)\n",
    "\n",
    "history = []\n",
    "user_input = input(\"User:\")\n",
    "while user_input!=\"bye\":\n",
    "    result = await agent.run(user_prompt=user_input,message_history=history)\n",
    "    print(\"DeepSeek:\",clean_response(result.data))\n",
    "    history = result.all_messages()\n",
    "    user_input = input(\"User:\")"
   ]
  },
  {
   "cell_type": "code",
   "execution_count": null,
   "id": "27d48a85",
   "metadata": {},
   "outputs": [],
   "source": []
  }
 ],
 "metadata": {
  "kernelspec": {
   "display_name": "Python 3 (ipykernel)",
   "language": "python",
   "name": "python3"
  },
  "language_info": {
   "codemirror_mode": {
    "name": "ipython",
    "version": 3
   },
   "file_extension": ".py",
   "mimetype": "text/x-python",
   "name": "python",
   "nbconvert_exporter": "python",
   "pygments_lexer": "ipython3",
   "version": "3.11.4"
  }
 },
 "nbformat": 4,
 "nbformat_minor": 5
}
