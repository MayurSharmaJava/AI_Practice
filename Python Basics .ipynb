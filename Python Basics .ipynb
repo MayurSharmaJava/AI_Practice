{
 "cells": [
  {
   "cell_type": "code",
   "execution_count": null,
   "id": "e151302d",
   "metadata": {},
   "outputs": [],
   "source": [
    "## Paython Basics Practice"
   ]
  },
  {
   "cell_type": "code",
   "execution_count": 26,
   "id": "208a6e75",
   "metadata": {},
   "outputs": [
    {
     "name": "stdout",
     "output_type": "stream",
     "text": [
      "5\n"
     ]
    }
   ],
   "source": [
    "# list (Array in Java)\n",
    "x=[1,2,3,4,5] \n",
    "print(len(x))"
   ]
  },
  {
   "cell_type": "code",
   "execution_count": 11,
   "id": "f08c0196",
   "metadata": {},
   "outputs": [],
   "source": [
    "# adding two more elements \n",
    "x.extend([6,7])\n"
   ]
  },
  {
   "cell_type": "code",
   "execution_count": 8,
   "id": "5a99234e",
   "metadata": {},
   "outputs": [
    {
     "data": {
      "text/plain": [
       "[1, 2, 3]"
      ]
     },
     "execution_count": 8,
     "metadata": {},
     "output_type": "execute_result"
    }
   ],
   "source": [
    "# print all elment before 3rd\n",
    "x[:3]"
   ]
  },
  {
   "cell_type": "code",
   "execution_count": 9,
   "id": "1e56e37c",
   "metadata": {},
   "outputs": [
    {
     "data": {
      "text/plain": [
       "[4, 5, 6, 7]"
      ]
     },
     "execution_count": 9,
     "metadata": {},
     "output_type": "execute_result"
    }
   ],
   "source": [
    "# Print All elements after 3rd \n",
    "x[3:]"
   ]
  },
  {
   "cell_type": "code",
   "execution_count": 13,
   "id": "7930b50c",
   "metadata": {},
   "outputs": [
    {
     "data": {
      "text/plain": [
       "[1, 2, 3, 4, 5, 6, 7, 6, 7, 6, 7, 9]"
      ]
     },
     "execution_count": 13,
     "metadata": {},
     "output_type": "execute_result"
    }
   ],
   "source": [
    "# add only one element \n",
    "x.append(9)\n",
    "# Print all elements\n",
    "x[:]"
   ]
  },
  {
   "cell_type": "code",
   "execution_count": 18,
   "id": "cfe09b91",
   "metadata": {},
   "outputs": [
    {
     "data": {
      "text/plain": [
       "[1, 2, 3, 4, 5, 6, 7, 6, 7, 6, 7, 9]"
      ]
     },
     "execution_count": 18,
     "metadata": {},
     "output_type": "execute_result"
    }
   ],
   "source": [
    "# Sorting\n",
    "x.sort\n",
    "x[:]"
   ]
  },
  {
   "cell_type": "code",
   "execution_count": 22,
   "id": "abc0384f",
   "metadata": {},
   "outputs": [
    {
     "data": {
      "text/plain": [
       "[9, 7, 7, 7, 6, 6, 6, 5, 4, 3, 2, 1]"
      ]
     },
     "execution_count": 22,
     "metadata": {},
     "output_type": "execute_result"
    }
   ],
   "source": [
    "# Sorting Reverse \n",
    "x.sort(reverse=True)\n",
    "x[:]"
   ]
  },
  {
   "cell_type": "code",
   "execution_count": 23,
   "id": "5c40e539",
   "metadata": {},
   "outputs": [],
   "source": [
    "# Immutable Tupple (UnmidifiableList in java)\n",
    "x=(1,2,3,4,5)"
   ]
  },
  {
   "cell_type": "code",
   "execution_count": 27,
   "id": "42c81aa1",
   "metadata": {},
   "outputs": [
    {
     "data": {
      "text/plain": [
       "[1, 2, 3, 4, 5]"
      ]
     },
     "execution_count": 27,
     "metadata": {},
     "output_type": "execute_result"
    }
   ],
   "source": [
    "x[:]"
   ]
  },
  {
   "cell_type": "code",
   "execution_count": 30,
   "id": "dfab36e1",
   "metadata": {},
   "outputs": [],
   "source": [
    "# Dictionary (Map in java)\n",
    "animal = {}\n",
    "animal[\"pet1\"]=\"dog\"\n",
    "animal[\"pet2\"]=\"cat\""
   ]
  },
  {
   "cell_type": "code",
   "execution_count": 32,
   "id": "f1c601e5",
   "metadata": {},
   "outputs": [
    {
     "data": {
      "text/plain": [
       "{'pet1': 'dog', 'pet2': 'cat'}"
      ]
     },
     "execution_count": 32,
     "metadata": {},
     "output_type": "execute_result"
    }
   ],
   "source": [
    "#Print Dictionary  (Map in java)\n",
    "animal"
   ]
  },
  {
   "cell_type": "code",
   "execution_count": 33,
   "id": "551f53ca",
   "metadata": {},
   "outputs": [
    {
     "data": {
      "text/plain": [
       "'dog'"
      ]
     },
     "execution_count": 33,
     "metadata": {},
     "output_type": "execute_result"
    }
   ],
   "source": [
    "#Access Value in dictionary/map\n",
    "animal.get(\"pet1\")"
   ]
  },
  {
   "cell_type": "code",
   "execution_count": 42,
   "id": "950c86b2",
   "metadata": {},
   "outputs": [
    {
     "name": "stdout",
     "output_type": "stream",
     "text": [
      "dog\n",
      "cat\n"
     ]
    }
   ],
   "source": [
    "# For Loop \n",
    "### NOTE : \"Colon Indicate start of loop\"\n",
    "### Print is inside loop so it should be indented one tab inside\n",
    "for a in animal :\n",
    "    print(animal[a])"
   ]
  },
  {
   "cell_type": "code",
   "execution_count": 43,
   "id": "8dcd5c9f",
   "metadata": {},
   "outputs": [
    {
     "name": "stdout",
     "output_type": "stream",
     "text": [
      "pet1\n",
      "pet2\n"
     ]
    }
   ],
   "source": [
    "# Iterate over all Keys only\n",
    "for a in animal :\n",
    "    print(a)"
   ]
  },
  {
   "cell_type": "code",
   "execution_count": 44,
   "id": "b66eab2c",
   "metadata": {},
   "outputs": [
    {
     "name": "stdout",
     "output_type": "stream",
     "text": [
      "9\n"
     ]
    }
   ],
   "source": [
    "# Functions defination \n",
    "def square(x) :\n",
    "    return x*x\n",
    "\n",
    "print (square(3))"
   ]
  },
  {
   "cell_type": "code",
   "execution_count": 46,
   "id": "9073e329",
   "metadata": {},
   "outputs": [
    {
     "name": "stdout",
     "output_type": "stream",
     "text": [
      "16\n"
     ]
    }
   ],
   "source": [
    "# pass function as an argument\n",
    "def doSomeOperation(f,x) :\n",
    "    return f(x)\n",
    "\n",
    "print (doSomeOperation(square,4))\n",
    "# Above code passes predefined Function square to functio DoSomeOperation"
   ]
  },
  {
   "cell_type": "code",
   "execution_count": 48,
   "id": "12901686",
   "metadata": {},
   "outputs": [
    {
     "name": "stdout",
     "output_type": "stream",
     "text": [
      "6\n"
     ]
    }
   ],
   "source": [
    "# You can Pass Lambda also as Parameter\n",
    "# below code pass increment function +1 in DoSoemOperation function then Parameter 5 will be incremented by 6\n",
    "\n",
    "print (doSomeOperation(lambda x: x+1, 5))"
   ]
  },
  {
   "cell_type": "code",
   "execution_count": null,
   "id": "8f8de2da",
   "metadata": {},
   "outputs": [],
   "source": [
    "# Boolean Expression "
   ]
  }
 ],
 "metadata": {
  "kernelspec": {
   "display_name": "Python 3 (ipykernel)",
   "language": "python",
   "name": "python3"
  },
  "language_info": {
   "codemirror_mode": {
    "name": "ipython",
    "version": 3
   },
   "file_extension": ".py",
   "mimetype": "text/x-python",
   "name": "python",
   "nbconvert_exporter": "python",
   "pygments_lexer": "ipython3",
   "version": "3.11.4"
  }
 },
 "nbformat": 4,
 "nbformat_minor": 5
}
